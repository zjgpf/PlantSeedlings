{
 "cells": [
  {
   "cell_type": "code",
   "execution_count": 1,
   "metadata": {},
   "outputs": [],
   "source": [
    "%reload_ext autoreload\n",
    "%autoreload 2\n",
    "%matplotlib inline"
   ]
  },
  {
   "cell_type": "code",
   "execution_count": 2,
   "metadata": {},
   "outputs": [],
   "source": [
    "from fastai.sgdr import *\n",
    "from fastai.imports import *\n",
    "from fastai.dataset import *\n",
    "from fastai.model import *\n",
    "from fastai.conv_learner import *\n",
    "from fastai.transforms import *\n",
    "from fastai.plots import *\n"
   ]
  },
  {
   "cell_type": "code",
   "execution_count": 3,
   "metadata": {},
   "outputs": [
    {
     "data": {
      "text/plain": [
       "['train.zip', 'test', 'label.csv', 'models', 'train', 'tmp', 'test.zip']"
      ]
     },
     "execution_count": 3,
     "metadata": {},
     "output_type": "execute_result"
    }
   ],
   "source": [
    "PATH = '../data/PlantSeedlings/'\n",
    "os.listdir(PATH)"
   ]
  },
  {
   "cell_type": "code",
   "execution_count": 1,
   "metadata": {},
   "outputs": [],
   "source": [
    "#species = os.listdir(f'{PATH}train')"
   ]
  },
  {
   "cell_type": "code",
   "execution_count": 12,
   "metadata": {},
   "outputs": [],
   "source": [
    "def create_label_csv(path):\n",
    "    label_csv = pd.DataFrame(columns=['file','species'])\n",
    "    for spe in species:\n",
    "        for file in os.listdir(path+'train/'+spe+'/'):\n",
    "            label_csv = label_csv.append({'file':file,\n",
    "                              'species':spe.replace(' ','_')}\n",
    "                             ,ignore_index = True)\n",
    "    return label_csv\n",
    "label_csv = create_label_csv(PATH)\n",
    "label_csv.to_csv(f'{PATH}label.csv',index=False)"
   ]
  },
  {
   "cell_type": "code",
   "execution_count": 7,
   "metadata": {},
   "outputs": [],
   "source": [
    "def movefiles():\n",
    "    dst = f'{PATH}/train/'\n",
    "    srcs = [f'{PATH}train/{spe}' for spe in species]\n",
    "    for src in srcs:\n",
    "        for file in os.listdir(src):\n",
    "            src_file = src+'/'+file\n",
    "            dst_file = dst + '/'+file\n",
    "            shutil.move(src_file,dst_file)\n",
    "movefiles()"
   ]
  },
  {
   "cell_type": "code",
   "execution_count": 8,
   "metadata": {},
   "outputs": [],
   "source": [
    "def removeEmptyDir():\n",
    "    path = f'{PATH}/train/'\n",
    "    for d in species:\n",
    "        os.removedirs(path+d)\n",
    "        \n",
    "removeEmptyDir()"
   ]
  },
  {
   "cell_type": "code",
   "execution_count": 4,
   "metadata": {},
   "outputs": [
    {
     "data": {
      "text/html": [
       "<div>\n",
       "<style scoped>\n",
       "    .dataframe tbody tr th:only-of-type {\n",
       "        vertical-align: middle;\n",
       "    }\n",
       "\n",
       "    .dataframe tbody tr th {\n",
       "        vertical-align: top;\n",
       "    }\n",
       "\n",
       "    .dataframe thead th {\n",
       "        text-align: right;\n",
       "    }\n",
       "</style>\n",
       "<table border=\"1\" class=\"dataframe\">\n",
       "  <thead>\n",
       "    <tr style=\"text-align: right;\">\n",
       "      <th></th>\n",
       "      <th>file</th>\n",
       "    </tr>\n",
       "    <tr>\n",
       "      <th>species</th>\n",
       "      <th></th>\n",
       "    </tr>\n",
       "  </thead>\n",
       "  <tbody>\n",
       "    <tr>\n",
       "      <th>Loose_Silky-bent</th>\n",
       "      <td>654</td>\n",
       "    </tr>\n",
       "    <tr>\n",
       "      <th>Common_Chickweed</th>\n",
       "      <td>611</td>\n",
       "    </tr>\n",
       "    <tr>\n",
       "      <th>Scentless_Mayweed</th>\n",
       "      <td>516</td>\n",
       "    </tr>\n",
       "    <tr>\n",
       "      <th>Small-flowered_Cranesbill</th>\n",
       "      <td>496</td>\n",
       "    </tr>\n",
       "    <tr>\n",
       "      <th>Fat_Hen</th>\n",
       "      <td>475</td>\n",
       "    </tr>\n",
       "    <tr>\n",
       "      <th>Charlock</th>\n",
       "      <td>390</td>\n",
       "    </tr>\n",
       "    <tr>\n",
       "      <th>Sugar_beet</th>\n",
       "      <td>385</td>\n",
       "    </tr>\n",
       "    <tr>\n",
       "      <th>Cleavers</th>\n",
       "      <td>287</td>\n",
       "    </tr>\n",
       "    <tr>\n",
       "      <th>Black-grass</th>\n",
       "      <td>263</td>\n",
       "    </tr>\n",
       "    <tr>\n",
       "      <th>Shepherds_Purse</th>\n",
       "      <td>231</td>\n",
       "    </tr>\n",
       "    <tr>\n",
       "      <th>Common_wheat</th>\n",
       "      <td>221</td>\n",
       "    </tr>\n",
       "    <tr>\n",
       "      <th>Maize</th>\n",
       "      <td>221</td>\n",
       "    </tr>\n",
       "  </tbody>\n",
       "</table>\n",
       "</div>"
      ],
      "text/plain": [
       "                           file\n",
       "species                        \n",
       "Loose_Silky-bent            654\n",
       "Common_Chickweed            611\n",
       "Scentless_Mayweed           516\n",
       "Small-flowered_Cranesbill   496\n",
       "Fat_Hen                     475\n",
       "Charlock                    390\n",
       "Sugar_beet                  385\n",
       "Cleavers                    287\n",
       "Black-grass                 263\n",
       "Shepherds_Purse             231\n",
       "Common_wheat                221\n",
       "Maize                       221"
      ]
     },
     "execution_count": 4,
     "metadata": {},
     "output_type": "execute_result"
    }
   ],
   "source": [
    "df = pd.read_csv(f'{PATH}label.csv')\n",
    "df.pivot_table(index='species',aggfunc = len).sort_values('file',ascending=False)"
   ]
  },
  {
   "cell_type": "code",
   "execution_count": 17,
   "metadata": {},
   "outputs": [],
   "source": [
    "df.shape\n",
    "for i in range(df.shape[0]):\n",
    "    df.species[i] = df.species[i].replace(' ','_')"
   ]
  },
  {
   "cell_type": "code",
   "execution_count": 18,
   "metadata": {},
   "outputs": [
    {
     "data": {
      "text/html": [
       "<div>\n",
       "<style scoped>\n",
       "    .dataframe tbody tr th:only-of-type {\n",
       "        vertical-align: middle;\n",
       "    }\n",
       "\n",
       "    .dataframe tbody tr th {\n",
       "        vertical-align: top;\n",
       "    }\n",
       "\n",
       "    .dataframe thead th {\n",
       "        text-align: right;\n",
       "    }\n",
       "</style>\n",
       "<table border=\"1\" class=\"dataframe\">\n",
       "  <thead>\n",
       "    <tr style=\"text-align: right;\">\n",
       "      <th></th>\n",
       "      <th>file</th>\n",
       "    </tr>\n",
       "    <tr>\n",
       "      <th>species</th>\n",
       "      <th></th>\n",
       "    </tr>\n",
       "  </thead>\n",
       "  <tbody>\n",
       "    <tr>\n",
       "      <th>Loose_Silky-bent</th>\n",
       "      <td>654</td>\n",
       "    </tr>\n",
       "    <tr>\n",
       "      <th>Common_Chickweed</th>\n",
       "      <td>611</td>\n",
       "    </tr>\n",
       "    <tr>\n",
       "      <th>Scentless_Mayweed</th>\n",
       "      <td>516</td>\n",
       "    </tr>\n",
       "    <tr>\n",
       "      <th>Small-flowered_Cranesbill</th>\n",
       "      <td>496</td>\n",
       "    </tr>\n",
       "    <tr>\n",
       "      <th>Fat_Hen</th>\n",
       "      <td>475</td>\n",
       "    </tr>\n",
       "    <tr>\n",
       "      <th>Charlock</th>\n",
       "      <td>390</td>\n",
       "    </tr>\n",
       "    <tr>\n",
       "      <th>Sugar_beet</th>\n",
       "      <td>385</td>\n",
       "    </tr>\n",
       "    <tr>\n",
       "      <th>Cleavers</th>\n",
       "      <td>287</td>\n",
       "    </tr>\n",
       "    <tr>\n",
       "      <th>Black-grass</th>\n",
       "      <td>263</td>\n",
       "    </tr>\n",
       "    <tr>\n",
       "      <th>Shepherds_Purse</th>\n",
       "      <td>231</td>\n",
       "    </tr>\n",
       "    <tr>\n",
       "      <th>Common_wheat</th>\n",
       "      <td>221</td>\n",
       "    </tr>\n",
       "    <tr>\n",
       "      <th>Maize</th>\n",
       "      <td>221</td>\n",
       "    </tr>\n",
       "  </tbody>\n",
       "</table>\n",
       "</div>"
      ],
      "text/plain": [
       "                           file\n",
       "species                        \n",
       "Loose_Silky-bent            654\n",
       "Common_Chickweed            611\n",
       "Scentless_Mayweed           516\n",
       "Small-flowered_Cranesbill   496\n",
       "Fat_Hen                     475\n",
       "Charlock                    390\n",
       "Sugar_beet                  385\n",
       "Cleavers                    287\n",
       "Black-grass                 263\n",
       "Shepherds_Purse             231\n",
       "Common_wheat                221\n",
       "Maize                       221"
      ]
     },
     "execution_count": 18,
     "metadata": {},
     "output_type": "execute_result"
    }
   ],
   "source": [
    "df.pivot_table(index='species',aggfunc = len).sort_values('file',ascending=False)"
   ]
  },
  {
   "cell_type": "code",
   "execution_count": 6,
   "metadata": {},
   "outputs": [],
   "source": [
    "df.to_csv(f'{PATH}label.csv',index=False)"
   ]
  },
  {
   "cell_type": "code",
   "execution_count": 5,
   "metadata": {
    "scrolled": true
   },
   "outputs": [
    {
     "data": {
      "text/plain": [
       "(array([3817, 1075,  296]), 950)"
      ]
     },
     "execution_count": 5,
     "metadata": {},
     "output_type": "execute_result"
    }
   ],
   "source": [
    "val_idxs = get_cv_idxs(df.shape[0])\n",
    "val_idxs[:3],len(val_idxs)"
   ]
  },
  {
   "cell_type": "code",
   "execution_count": 6,
   "metadata": {},
   "outputs": [],
   "source": [
    "def f1(preds, targs):\n",
    "    preds = np.argmax(preds, 1)\n",
    "    return sklearn.metrics.f1_score(targs, preds, average='micro') "
   ]
  },
  {
   "cell_type": "code",
   "execution_count": 7,
   "metadata": {},
   "outputs": [],
   "source": [
    "arch = resnet50\n",
    "sz = 400\n",
    "tfms = tfms_from_model(arch,sz,aug_tfms=transforms_side_on,max_zoom=1.1)\n",
    "data = ImageClassifierData.from_csv(PATH,'train',f'{PATH}label.csv',tfms=tfms,val_idxs= val_idxs,test_name = 'test')"
   ]
  },
  {
   "cell_type": "code",
   "execution_count": 8,
   "metadata": {},
   "outputs": [],
   "source": [
    "learn = ConvLearner.pretrained(arch,data,precompute=True,metrics=[f1])"
   ]
  },
  {
   "cell_type": "code",
   "execution_count": 60,
   "metadata": {},
   "outputs": [
    {
     "data": {
      "application/vnd.jupyter.widget-view+json": {
       "model_id": "1b9dc59e11724241958005075d109a56",
       "version_major": 2,
       "version_minor": 0
      },
      "text/html": [
       "<p>Failed to display Jupyter Widget of type <code>HBox</code>.</p>\n",
       "<p>\n",
       "  If you're reading this message in the Jupyter Notebook or JupyterLab Notebook, it may mean\n",
       "  that the widgets JavaScript is still loading. If this message persists, it\n",
       "  likely means that the widgets JavaScript library is either not installed or\n",
       "  not enabled. See the <a href=\"https://ipywidgets.readthedocs.io/en/stable/user_install.html\">Jupyter\n",
       "  Widgets Documentation</a> for setup instructions.\n",
       "</p>\n",
       "<p>\n",
       "  If you're reading this message in another frontend (for example, a static\n",
       "  rendering on GitHub or <a href=\"https://nbviewer.jupyter.org/\">NBViewer</a>),\n",
       "  it may mean that your frontend doesn't currently support widgets.\n",
       "</p>\n"
      ],
      "text/plain": [
       "HBox(children=(IntProgress(value=0, description='Epoch', max=1), HTML(value='')))"
      ]
     },
     "metadata": {},
     "output_type": "display_data"
    },
    {
     "name": "stdout",
     "output_type": "stream",
     "text": [
      " 95%|█████████▌| 57/60 [00:01<00:00, 48.78it/s, loss=10.8]\n",
      "                                                          \r"
     ]
    }
   ],
   "source": [
    "learn.lr_find()"
   ]
  },
  {
   "cell_type": "code",
   "execution_count": 61,
   "metadata": {},
   "outputs": [
    {
     "data": {
      "image/png": "[encoded data removed]",
      "text/plain": [
       "<matplotlib.figure.Figure at 0x7fb51990f320>"
      ]
     },
     "metadata": {},
     "output_type": "display_data"
    }
   ],
   "source": [
    "learn.sched.plot()"
   ]
  },
  {
   "cell_type": "code",
   "execution_count": 10,
   "metadata": {},
   "outputs": [
    {
     "data": {
      "application/vnd.jupyter.widget-view+json": {
       "model_id": "b13b89e545c24e769f0c7c6d2e802ca4",
       "version_major": 2,
       "version_minor": 0
      },
      "text/html": [
       "<p>Failed to display Jupyter Widget of type <code>HBox</code>.</p>\n",
       "<p>\n",
       "  If you're reading this message in the Jupyter Notebook or JupyterLab Notebook, it may mean\n",
       "  that the widgets JavaScript is still loading. If this message persists, it\n",
       "  likely means that the widgets JavaScript library is either not installed or\n",
       "  not enabled. See the <a href=\"https://ipywidgets.readthedocs.io/en/stable/user_install.html\">Jupyter\n",
       "  Widgets Documentation</a> for setup instructions.\n",
       "</p>\n",
       "<p>\n",
       "  If you're reading this message in another frontend (for example, a static\n",
       "  rendering on GitHub or <a href=\"https://nbviewer.jupyter.org/\">NBViewer</a>),\n",
       "  it may mean that your frontend doesn't currently support widgets.\n",
       "</p>\n"
      ],
      "text/plain": [
       "HBox(children=(IntProgress(value=0, description='Epoch', max=2), HTML(value='')))"
      ]
     },
     "metadata": {},
     "output_type": "display_data"
    },
    {
     "name": "stdout",
     "output_type": "stream",
     "text": [
      "epoch      trn_loss   val_loss   f1                       \n",
      "    0      1.30846    0.585724   0.808681  \n",
      "    1      0.902655   0.470817   0.839468                  \n",
      "\n"
     ]
    },
    {
     "data": {
      "text/plain": [
       "[0.47081745, 0.8394675925925926]"
      ]
     },
     "execution_count": 10,
     "metadata": {},
     "output_type": "execute_result"
    }
   ],
   "source": [
    "learn.fit(0.1,2)"
   ]
  },
  {
   "cell_type": "code",
   "execution_count": 68,
   "metadata": {},
   "outputs": [
    {
     "data": {
      "application/vnd.jupyter.widget-view+json": {
       "model_id": "5bd6d366429546499c852151bec445c8",
       "version_major": 2,
       "version_minor": 0
      },
      "text/html": [
       "<p>Failed to display Jupyter Widget of type <code>HBox</code>.</p>\n",
       "<p>\n",
       "  If you're reading this message in the Jupyter Notebook or JupyterLab Notebook, it may mean\n",
       "  that the widgets JavaScript is still loading. If this message persists, it\n",
       "  likely means that the widgets JavaScript library is either not installed or\n",
       "  not enabled. See the <a href=\"https://ipywidgets.readthedocs.io/en/stable/user_install.html\">Jupyter\n",
       "  Widgets Documentation</a> for setup instructions.\n",
       "</p>\n",
       "<p>\n",
       "  If you're reading this message in another frontend (for example, a static\n",
       "  rendering on GitHub or <a href=\"https://nbviewer.jupyter.org/\">NBViewer</a>),\n",
       "  it may mean that your frontend doesn't currently support widgets.\n",
       "</p>\n"
      ],
      "text/plain": [
       "HBox(children=(IntProgress(value=0, description='Epoch', max=1), HTML(value='')))"
      ]
     },
     "metadata": {},
     "output_type": "display_data"
    },
    {
     "name": "stdout",
     "output_type": "stream",
     "text": [
      " 85%|████████▌ | 51/60 [00:01<00:00, 49.30it/s, loss=1.06] \n",
      "                                                          \r"
     ]
    },
    {
     "data": {
      "image/png": "[encoded data removed]",
      "text/plain": [
       "<matplotlib.figure.Figure at 0x7fb5106dc0b8>"
      ]
     },
     "metadata": {},
     "output_type": "display_data"
    }
   ],
   "source": [
    "learn.lr_find()\n",
    "learn.sched.plot()"
   ]
  },
  {
   "cell_type": "code",
   "execution_count": 14,
   "metadata": {},
   "outputs": [
    {
     "data": {
      "application/vnd.jupyter.widget-view+json": {
       "model_id": "6268b5629e304fc1a5be276e60e5fa27",
       "version_major": 2,
       "version_minor": 0
      },
      "text/html": [
       "<p>Failed to display Jupyter Widget of type <code>HBox</code>.</p>\n",
       "<p>\n",
       "  If you're reading this message in the Jupyter Notebook or JupyterLab Notebook, it may mean\n",
       "  that the widgets JavaScript is still loading. If this message persists, it\n",
       "  likely means that the widgets JavaScript library is either not installed or\n",
       "  not enabled. See the <a href=\"https://ipywidgets.readthedocs.io/en/stable/user_install.html\">Jupyter\n",
       "  Widgets Documentation</a> for setup instructions.\n",
       "</p>\n",
       "<p>\n",
       "  If you're reading this message in another frontend (for example, a static\n",
       "  rendering on GitHub or <a href=\"https://nbviewer.jupyter.org/\">NBViewer</a>),\n",
       "  it may mean that your frontend doesn't currently support widgets.\n",
       "</p>\n"
      ],
      "text/plain": [
       "HBox(children=(IntProgress(value=0, description='Epoch', max=3), HTML(value='')))"
      ]
     },
     "metadata": {},
     "output_type": "display_data"
    },
    {
     "name": "stdout",
     "output_type": "stream",
     "text": [
      "epoch      trn_loss   val_loss   f1                        \n",
      "    0      0.488363   0.374928   0.882176  \n",
      "    1      0.425664   0.421997   0.879051                  \n",
      "    2      0.398793   0.37557    0.884452                  \n",
      "\n"
     ]
    },
    {
     "data": {
      "text/plain": [
       "[0.37557048, 0.8844521604938272]"
      ]
     },
     "execution_count": 14,
     "metadata": {},
     "output_type": "execute_result"
    }
   ],
   "source": [
    "precompute = False\n",
    "learn.fit(1e-2,3, cycle_len = 1)"
   ]
  },
  {
   "cell_type": "code",
   "execution_count": 15,
   "metadata": {},
   "outputs": [
    {
     "data": {
      "application/vnd.jupyter.widget-view+json": {
       "model_id": "f51883238187465299bb36a19149ba0b",
       "version_major": 2,
       "version_minor": 0
      },
      "text/html": [
       "<p>Failed to display Jupyter Widget of type <code>HBox</code>.</p>\n",
       "<p>\n",
       "  If you're reading this message in the Jupyter Notebook or JupyterLab Notebook, it may mean\n",
       "  that the widgets JavaScript is still loading. If this message persists, it\n",
       "  likely means that the widgets JavaScript library is either not installed or\n",
       "  not enabled. See the <a href=\"https://ipywidgets.readthedocs.io/en/stable/user_install.html\">Jupyter\n",
       "  Widgets Documentation</a> for setup instructions.\n",
       "</p>\n",
       "<p>\n",
       "  If you're reading this message in another frontend (for example, a static\n",
       "  rendering on GitHub or <a href=\"https://nbviewer.jupyter.org/\">NBViewer</a>),\n",
       "  it may mean that your frontend doesn't currently support widgets.\n",
       "</p>\n"
      ],
      "text/plain": [
       "HBox(children=(IntProgress(value=0, description='Epoch', max=7), HTML(value='')))"
      ]
     },
     "metadata": {},
     "output_type": "display_data"
    },
    {
     "name": "stdout",
     "output_type": "stream",
     "text": [
      "epoch      trn_loss   val_loss   f1                        \n",
      "    0      0.459468   0.304538   0.897801  \n",
      "    1      0.446972   0.292676   0.90216                   \n",
      "    2      0.415388   0.294271   0.901119                  \n",
      "    3      0.416273   0.285949   0.897145                  \n",
      "    4      0.3948     0.275549   0.909645                  \n",
      "    5      0.3758     0.274121   0.905093                  \n",
      "    6      0.375484   0.271417   0.90841                   \n",
      "\n"
     ]
    },
    {
     "data": {
      "text/plain": [
       "[0.27141675, 0.9084104938271605]"
      ]
     },
     "execution_count": 15,
     "metadata": {},
     "output_type": "execute_result"
    }
   ],
   "source": [
    "lr = 1e-2\n",
    "lrs = np.array([lr/100,lr/10,lr])\n",
    "learn.unfreeze()\n",
    "learn.fit(lrs,3, cycle_len = 1, cycle_mult = 2)"
   ]
  },
  {
   "cell_type": "code",
   "execution_count": 17,
   "metadata": {},
   "outputs": [
    {
     "data": {
      "application/vnd.jupyter.widget-view+json": {
       "model_id": "e279caa05be7453794a3fda56203dab6",
       "version_major": 2,
       "version_minor": 0
      },
      "text/html": [
       "<p>Failed to display Jupyter Widget of type <code>HBox</code>.</p>\n",
       "<p>\n",
       "  If you're reading this message in the Jupyter Notebook or JupyterLab Notebook, it may mean\n",
       "  that the widgets JavaScript is still loading. If this message persists, it\n",
       "  likely means that the widgets JavaScript library is either not installed or\n",
       "  not enabled. See the <a href=\"https://ipywidgets.readthedocs.io/en/stable/user_install.html\">Jupyter\n",
       "  Widgets Documentation</a> for setup instructions.\n",
       "</p>\n",
       "<p>\n",
       "  If you're reading this message in another frontend (for example, a static\n",
       "  rendering on GitHub or <a href=\"https://nbviewer.jupyter.org/\">NBViewer</a>),\n",
       "  it may mean that your frontend doesn't currently support widgets.\n",
       "</p>\n"
      ],
      "text/plain": [
       "HBox(children=(IntProgress(value=0, description='Epoch', max=3), HTML(value='')))"
      ]
     },
     "metadata": {},
     "output_type": "display_data"
    },
    {
     "name": "stdout",
     "output_type": "stream",
     "text": [
      "epoch      trn_loss   val_loss   f1                        \n",
      "    0      0.365617   0.27211    0.909259  \n",
      "    1      0.364471   0.265937   0.905285                  \n",
      "    2      0.350252   0.265096   0.90652                   \n",
      "\n"
     ]
    },
    {
     "data": {
      "text/plain": [
       "[0.2650955, 0.906520061728395]"
      ]
     },
     "execution_count": 17,
     "metadata": {},
     "output_type": "execute_result"
    }
   ],
   "source": [
    "learn.freeze()\n",
    "learn.fit(lr,3,cycle_len=1)"
   ]
  },
  {
   "cell_type": "code",
   "execution_count": 12,
   "metadata": {},
   "outputs": [],
   "source": [
    "learn.precompute = False\n",
    "learn.load('400')"
   ]
  },
  {
   "cell_type": "code",
   "execution_count": 70,
   "metadata": {},
   "outputs": [
    {
     "data": {
      "application/vnd.jupyter.widget-view+json": {
       "model_id": "0231a5f44926466f89179e7b7162aaa4",
       "version_major": 2,
       "version_minor": 0
      },
      "text/html": [
       "<p>Failed to display Jupyter Widget of type <code>HBox</code>.</p>\n",
       "<p>\n",
       "  If you're reading this message in the Jupyter Notebook or JupyterLab Notebook, it may mean\n",
       "  that the widgets JavaScript is still loading. If this message persists, it\n",
       "  likely means that the widgets JavaScript library is either not installed or\n",
       "  not enabled. See the <a href=\"https://ipywidgets.readthedocs.io/en/stable/user_install.html\">Jupyter\n",
       "  Widgets Documentation</a> for setup instructions.\n",
       "</p>\n",
       "<p>\n",
       "  If you're reading this message in another frontend (for example, a static\n",
       "  rendering on GitHub or <a href=\"https://nbviewer.jupyter.org/\">NBViewer</a>),\n",
       "  it may mean that your frontend doesn't currently support widgets.\n",
       "</p>\n"
      ],
      "text/plain": [
       "HBox(children=(IntProgress(value=0, description='Epoch', max=1), HTML(value='')))"
      ]
     },
     "metadata": {},
     "output_type": "display_data"
    },
    {
     "name": "stdout",
     "output_type": "stream",
     "text": [
      " 93%|█████████▎| 56/60 [01:23<00:05,  1.50s/it, loss=1.16] "
     ]
    },
    {
     "data": {
      "image/png": "[encoded data removed]",
      "text/plain": [
       "<matplotlib.figure.Figure at 0x7fb51026a080>"
      ]
     },
     "metadata": {},
     "output_type": "display_data"
    }
   ],
   "source": [
    "learn.lr_find()\n",
    "learn.sched.plot()"
   ]
  },
  {
   "cell_type": "code",
   "execution_count": 71,
   "metadata": {},
   "outputs": [],
   "source": [
    "learn.save('400')"
   ]
  },
  {
   "cell_type": "code",
   "execution_count": 72,
   "metadata": {},
   "outputs": [
    {
     "data": {
      "application/vnd.jupyter.widget-view+json": {
       "model_id": "0c963af34c6848f8becdfb11ecaf1987",
       "version_major": 2,
       "version_minor": 0
      },
      "text/html": [
       "<p>Failed to display Jupyter Widget of type <code>HBox</code>.</p>\n",
       "<p>\n",
       "  If you're reading this message in the Jupyter Notebook or JupyterLab Notebook, it may mean\n",
       "  that the widgets JavaScript is still loading. If this message persists, it\n",
       "  likely means that the widgets JavaScript library is either not installed or\n",
       "  not enabled. See the <a href=\"https://ipywidgets.readthedocs.io/en/stable/user_install.html\">Jupyter\n",
       "  Widgets Documentation</a> for setup instructions.\n",
       "</p>\n",
       "<p>\n",
       "  If you're reading this message in another frontend (for example, a static\n",
       "  rendering on GitHub or <a href=\"https://nbviewer.jupyter.org/\">NBViewer</a>),\n",
       "  it may mean that your frontend doesn't currently support widgets.\n",
       "</p>\n"
      ],
      "text/plain": [
       "HBox(children=(IntProgress(value=0, description='Epoch', max=7), HTML(value='')))"
      ]
     },
     "metadata": {},
     "output_type": "display_data"
    },
    {
     "name": "stdout",
     "output_type": "stream",
     "text": [
      "  0%|          | 0/60 [00:00<?, ?it/s]                    \n"
     ]
    },
    {
     "name": "stderr",
     "output_type": "stream",
     "text": [
      "Exception in thread Thread-68:\n",
      "Traceback (most recent call last):\n",
      "  File \"/home/paperspace/anaconda3/envs/fastai/lib/python3.6/threading.py\", line 916, in _bootstrap_inner\n",
      "    self.run()\n",
      "  File \"/home/paperspace/anaconda3/envs/fastai/lib/python3.6/site-packages/tqdm/_tqdm.py\", line 144, in run\n",
      "    for instance in self.tqdm_cls._instances:\n",
      "  File \"/home/paperspace/anaconda3/envs/fastai/lib/python3.6/_weakrefset.py\", line 60, in __iter__\n",
      "    for itemref in self.data:\n",
      "RuntimeError: Set changed size during iteration\n",
      "\n"
     ]
    },
    {
     "name": "stdout",
     "output_type": "stream",
     "text": [
      "epoch      trn_loss   val_loss   accuracy                  \n",
      "    0      0.317429   0.22908    0.925656  \n",
      "    1      0.330705   0.224264   0.924614                  \n",
      "    2      0.331236   0.227205   0.928781                  \n",
      "    3      0.316454   0.223874   0.927739                  \n",
      "    4      0.316014   0.219602   0.928781                  \n",
      "    5      0.296106   0.219322   0.929823                  \n",
      "    6      0.277768   0.218473   0.930864                  \n",
      "\n"
     ]
    },
    {
     "data": {
      "text/plain": [
       "[0.21847278, 0.9308641990025838]"
      ]
     },
     "execution_count": 72,
     "metadata": {},
     "output_type": "execute_result"
    }
   ],
   "source": [
    "\n",
    "learn.fit(lrs,3,cycle_len=1,cycle_mult=2)"
   ]
  },
  {
   "cell_type": "code",
   "execution_count": 73,
   "metadata": {},
   "outputs": [],
   "source": [
    "learn.save('400')"
   ]
  },
  {
   "cell_type": "code",
   "execution_count": 74,
   "metadata": {},
   "outputs": [
    {
     "data": {
      "text/plain": [
       "array([11, 11,  2,  3,  3, 10,  8,  7,  4,  9, 11, 10,  1,  7,  5,  8,  8,  1,  5,  3,  8,  9,  6,  2, 10,\n",
       "        3,  3, 10,  8,  6,  2, 10, 11,  0,  0,  3,  9,  6,  6,  7,  5,  8,  3,  4,  3, 10,  1,  3,  8,  3,\n",
       "        5,  1,  3,  9,  8,  1,  2,  6,  2,  3,  1, 10,  8,  6,  0,  5,  1,  8,  8,  8, 11, 11,  5,  3, 11,\n",
       "        1,  6, 10,  3,  5, 11, 10,  6,  4,  8,  5,  4,  8, 11,  4, 10,  6,  9,  3,  3,  5,  9,  3,  5,  9,\n",
       "        3,  0,  7,  6, 10,  1,  6,  6,  9,  6,  6,  8,  1,  7, 10,  9,  5,  6,  3,  5,  6,  4, 10,  4,  0,\n",
       "        9,  1, 11,  3,  2,  5,  9, 11,  4,  1,  1,  3,  1,  3,  8,  1,  6,  6,  1,  1,  3, 11,  3,  3, 10,\n",
       "        8,  6,  3,  6,  2,  5,  5,  6,  2, 10,  6,  5,  3,  2,  6,  5,  8,  8, 10, 10, 10, 11, 10, 11, 11,\n",
       "        3, 11,  3, 11, 10,  5,  8,  7,  3,  7,  8, 10,  5,  8, 11,  5,  4,  3,  6,  3,  5, 10,  0,  3,  1,\n",
       "       10, 11,  1,  8,  3,  6,  8,  1,  4,  2,  1,  1,  7,  6,  5,  1,  3,  2,  7,  2, 10,  8,  3,  5,  7,\n",
       "        4, 10,  8,  3,  3,  3,  6,  8,  6, 10,  8,  0, 10,  7,  5, 11,  5,  7,  0,  5,  5,  5, 10,  1,  6,\n",
       "        9,  4,  1,  8, 11,  3,  7,  3,  3,  9,  3,  8,  6,  8, 10,  5,  6,  6,  1,  6,  2,  8, 10,  6,  6,\n",
       "       11,  5,  6,  2,  8,  6,  9,  6, 10, 10,  6,  8,  8, 11, 10,  7,  3, 10,  6,  3,  7,  6,  6, 11,  2,\n",
       "        3,  6, 10, 11,  3,  6,  5,  6,  3,  3,  3, 11,  9,  8,  6,  3,  6,  5, 11,  7,  8,  8,  5,  7, 10,\n",
       "        1,  5,  9,  3,  8,  5,  2,  6,  8, 11,  6,  5,  5,  2,  6,  2,  7,  6,  2, 10,  6, 10,  6,  3, 11,\n",
       "        6,  7,  7,  5,  3, 10,  1,  6, 11, 11,  3,  9,  3,  5,  3, 11,  5,  3,  0,  8,  3,  3,  4,  8, 10,\n",
       "        3,  9,  1,  3,  3,  3,  6,  6,  1,  8,  8,  9,  1,  3, 10,  8, 11,  6, 10,  1,  7,  1,  6, 11,  1,\n",
       "        5,  6,  8,  8,  5,  6, 10, 10,  6,  4,  6, 11, 11,  3,  4,  0,  1,  5,  3,  1,  6,  6,  1,  3, 10,\n",
       "        4,  8,  8, 11,  8,  9,  5,  4,  7,  2,  5, 10,  1,  1,  3,  5,  3,  3, 11,  6,  6,  5, 10,  8,  1,\n",
       "        1,  6,  1,  8,  9,  6,  3,  6,  2,  3, 10,  3,  3,  2, 11,  0, 11,  6,  3,  8, 10,  6,  8,  2,  7,\n",
       "        0,  0,  4,  6,  6, 11,  1,  5,  7,  0, 10,  6,  6,  6,  2,  5,  9,  3, 10,  1,  9, 10, 11,  1,  2,\n",
       "        5,  3,  6,  7,  9, 10,  5,  4,  2,  5, 10, 10, 11, 11,  6,  7,  3,  8,  5,  0,  0,  2,  3,  8,  2,\n",
       "        8, 11, 11,  6,  7,  7,  7,  2,  1,  8,  9, 10,  5, 10,  3,  2,  6, 10,  5,  6, 11,  8,  8,  3, 10,\n",
       "        1,  9, 10,  7,  0,  6, 10,  4,  2, 10, 11,  3,  7,  0,  6,  6,  6,  0,  2,  2,  6,  4,  3, 10,  7,\n",
       "        0,  8,  5,  7,  0,  3, 11,  6,  5, 11,  1,  1,  5, 11,  8,  4,  6,  6,  3,  1,  1,  6,  5,  5,  7,\n",
       "        9,  6,  5, 11,  5,  3,  7,  1,  8,  1,  2, 10, 10, 10,  5,  4,  6,  1,  6,  7,  0,  1,  5,  7,  2,\n",
       "        1,  0,  9,  2,  8,  9,  5,  0, 10,  9,  6,  7,  0,  0,  8, 11,  6, 10, 11,  3,  8,  6,  3,  6,  1,\n",
       "        4,  6, 10,  3, 11, 11,  5,  9,  1,  1,  3,  1,  7,  0,  3,  8,  0, 11,  0,  8,  9,  6,  1, 10,  2,\n",
       "        0,  6,  4,  6,  3,  6,  4,  5,  9,  8,  7,  6,  6,  0,  3,  5,  0,  2,  7,  7,  6, 11,  1,  5,  7,\n",
       "        8, 10,  8,  2,  8,  3,  5,  0,  3,  5,  4,  1,  6,  5,  1,  8,  8,  3,  9, 11,  1,  6,  6,  1, 10,\n",
       "        3, 10,  6,  5,  5, 10,  5,  5, 11,  3,  1,  4,  2,  6,  3,  6,  7, 10,  1,  4, 11,  3, 10,  3,  1,\n",
       "        3,  1,  0, 10,  1, 10,  4,  6, 10,  4,  3, 10,  5,  6,  0, 10,  1,  5,  2,  9,  6, 10,  1,  5,  4,\n",
       "        8,  5,  6,  4,  3,  5,  1,  9,  1,  7, 11, 11,  8,  9, 11,  2,  1, 11,  0,  5,  0,  1,  3,  5,  6,\n",
       "       10,  1,  7,  6,  1,  6,  1, 10,  8,  6,  9,  8,  3, 11,  3,  6,  0,  8,  1,  9, 10,  9,  6,  6,  9,\n",
       "        8,  3,  0, 11, 10, 11, 11,  5,  3,  8,  1,  3,  6,  3,  9,  4,  0, 11, 11,  0,  3, 10,  4,  3,  3,\n",
       "       11, 11,  5, 11,  1, 10,  9, 11,  5, 10, 11,  2,  3,  5,  5,  0,  6, 11,  9, 10,  0,  4,  4,  1,  8,\n",
       "        5,  1,  0, 10,  1,  7,  1,  2,  9, 11,  4,  8,  7, 11,  8, 10,  5,  8, 10,  5,  8,  7,  3,  1,  9,\n",
       "        6,  3, 10,  4,  8,  3,  5,  0, 10, 10,  4,  7,  7,  8,  6,  1, 10,  6, 10, 11,  8,  8, 11, 10,  9,\n",
       "        6, 11,  8,  2,  0, 10,  3, 10, 10,  8,  4,  2,  4,  8,  9,  7,  7,  6,  5, 10,  3, 11,  3,  6,  1])"
      ]
     },
     "execution_count": 74,
     "metadata": {},
     "output_type": "execute_result"
    }
   ],
   "source": [
    "data.val_y"
   ]
  },
  {
   "cell_type": "code",
   "execution_count": 75,
   "metadata": {},
   "outputs": [],
   "source": [
    "val = learn.predict()"
   ]
  },
  {
   "cell_type": "code",
   "execution_count": 79,
   "metadata": {},
   "outputs": [
    {
     "data": {
      "text/plain": [
       "array([11, 11,  2,  3,  3, 10,  8,  7,  4,  8, 11, 10,  1,  7,  5,  8,  8,  1,  5,  3,  8,  9,  6,  2, 10,\n",
       "        3,  3, 10,  8,  6,  2, 10, 11,  0,  0,  3,  9,  6,  6,  7,  4,  8,  3,  4,  3, 10,  1,  3,  8,  3,\n",
       "        5,  1,  3,  9,  8,  1,  2,  6,  2,  3,  1, 10,  8,  6,  0,  5,  1,  8,  3,  8, 11, 11,  5,  3, 11,\n",
       "        1,  6, 10,  3,  5, 11, 10,  6,  4,  8,  5,  4,  8, 11,  4, 10,  6,  9,  3,  3,  5,  9,  3,  5,  9,\n",
       "        3,  0,  7,  6, 10,  1,  6,  0,  9,  6,  0,  8,  1,  7, 10,  9,  5,  6,  3,  5,  6,  4, 10, 11,  4,\n",
       "        9,  1, 11,  3,  2,  5,  9, 11,  4,  1,  1,  3,  1,  3,  8,  1,  6,  6,  1,  1,  3, 11,  3,  3, 10,\n",
       "        3,  6,  3,  0,  2,  5,  5,  6,  2, 10,  6,  5,  3,  2,  6,  5,  8,  8, 10, 10, 10, 11, 10, 11, 11,\n",
       "        3, 11,  3, 11, 10,  5,  8,  7,  3,  7,  8, 10,  5,  8, 11,  5,  4,  3,  6,  3,  5, 10,  6,  3,  1,\n",
       "       10, 11,  1,  8,  3,  6,  8,  1,  4,  2,  1,  1,  7,  6,  5,  1,  3,  2,  7,  2, 10,  8,  3,  5,  7,\n",
       "        4, 10,  8,  3,  3,  3,  6,  8,  6, 10,  8,  0, 10,  7,  5, 11,  5,  7,  0,  5,  5,  5, 10,  1,  6,\n",
       "        8,  4,  1,  8, 11,  3,  7,  3, 10,  9,  3,  8,  6,  8, 10,  5,  6,  6,  1,  6,  2,  3, 10,  0,  6,\n",
       "       11,  5,  6,  2,  8,  6,  9,  6, 10, 10,  0,  8,  8, 11, 10,  7,  3, 10,  6,  3,  7,  6,  6, 11,  2,\n",
       "        3,  6, 10, 11,  3,  6,  5,  6,  3,  3,  3, 11,  9,  8,  6,  3,  6,  5,  5,  7,  8,  8,  5,  7, 10,\n",
       "        1,  5,  9,  3,  8,  7,  2,  6,  8, 11,  6,  5,  5,  2,  6,  2,  8,  6,  2, 10,  6, 10,  6,  3, 11,\n",
       "        6,  7,  7,  5,  3, 10,  1,  6, 11, 11,  3,  3,  3,  5,  3, 11,  5,  3,  0,  8,  3,  3,  4,  3, 10,\n",
       "        3,  9,  1,  3,  3,  3,  6,  6,  7,  8,  8,  9,  1,  3, 10,  8,  5,  6, 10,  1,  7,  1,  6, 11,  1,\n",
       "        3,  6,  8,  8,  5,  6, 10, 10,  0,  4,  6, 11, 11,  3,  4,  6,  1,  5,  3,  1,  6,  6,  1,  3, 10,\n",
       "        4,  8,  8,  3,  8,  9,  5,  4,  7,  2,  5,  8,  1,  1,  3,  5,  3,  3, 11,  6,  6,  5, 10,  8,  1,\n",
       "        1,  6,  1,  8,  9,  6,  3,  6, 10,  3, 10,  3,  3,  2, 11,  0, 11,  0,  3,  8, 10,  6,  8,  2,  7,\n",
       "        0,  0,  4,  6,  6, 11,  1,  5,  7,  6, 10,  6,  0,  6,  2,  5,  9,  3, 10,  1,  9, 10, 11,  1,  2,\n",
       "        5,  3,  6,  7,  9, 10,  5,  4,  2,  5, 10, 10, 11, 11,  6,  7,  3,  8,  5,  0,  0,  2,  3,  8,  2,\n",
       "        8, 11, 11,  6,  7,  7,  7,  2,  1,  8,  9, 10,  5, 10,  3,  2,  6, 10,  5,  6, 11,  8,  8,  3, 10,\n",
       "        1,  9, 10,  7,  6,  6, 10,  4,  2, 10, 11,  3,  7,  6,  6,  6,  6,  0,  2,  2,  0,  4,  3, 10,  7,\n",
       "        0,  8,  5,  7,  6,  3, 11,  6,  5, 11,  1,  1,  5, 11,  8,  4,  6,  6,  3,  1,  1,  6,  5,  5,  7,\n",
       "        9,  6,  5, 11,  5,  3,  7,  1,  8,  1,  2, 10, 10,  6,  5,  4,  6,  1,  0,  7,  6,  1,  5,  7,  2,\n",
       "        1,  0,  9,  2,  8,  8,  5,  6, 10,  9,  0,  7,  6,  0,  3, 11,  6, 10, 11,  8,  8,  6,  9,  6,  1,\n",
       "        4,  6, 10,  3, 11, 11,  5,  9,  1,  1,  3,  1,  7,  0,  3,  8,  0,  3,  0,  8,  9,  6,  1, 10,  2,\n",
       "        0,  6,  4,  6,  3,  6,  4,  5,  9,  8,  7,  6,  6,  0,  3,  5,  6,  2,  7,  7,  6, 11,  1,  5,  7,\n",
       "        8, 10,  8,  2,  8,  3,  5,  0,  3,  3,  4,  1,  6,  5,  1,  8,  8,  3,  9,  5,  1,  6,  6,  1, 10,\n",
       "        3, 10,  6,  5,  5, 10,  5,  5, 11,  3,  1,  4,  8,  6,  3,  6,  7, 10,  1,  4, 11,  3, 10,  3,  1,\n",
       "        3,  1,  6, 10,  1, 10,  4,  6, 10,  4,  3, 10,  5,  6,  0, 10,  1,  5,  2,  9,  6, 10,  1,  5,  4,\n",
       "        8,  5,  6,  5,  3,  5,  1,  8,  1,  7, 11,  5,  8,  9, 11,  2,  2, 11,  0,  5,  0,  1,  3,  5,  6,\n",
       "       10,  1,  7,  6,  1,  8,  1, 10,  8,  6,  9,  8,  3,  5,  3,  0,  0,  3,  1,  9, 10,  9,  6,  6,  9,\n",
       "        8,  3,  0, 11, 10, 11, 11,  5,  3,  8,  1,  3,  6,  3,  9,  6,  0, 11, 11,  0,  3, 10,  4,  3,  3,\n",
       "       11, 11,  5, 11,  2, 10,  9, 11,  5, 10, 11,  2,  3,  5,  5,  6,  6, 11,  9, 10,  0,  4,  4,  1,  8,\n",
       "        3,  1,  6, 10,  1,  7,  1,  2,  9, 11,  4,  8,  7, 11,  8, 10,  5,  8, 10,  5,  8,  1,  3,  1,  9,\n",
       "        6,  3, 10,  4,  8,  3,  5,  0, 10, 10,  4,  7,  7,  8,  6,  1, 10,  6, 10, 11,  8,  8, 11, 10,  9,\n",
       "        6, 11,  8,  2,  0, 10,  3, 10, 10,  8,  4,  5,  4,  8,  9,  7,  7,  6,  5, 10,  3, 11,  3,  6,  1])"
      ]
     },
     "execution_count": 79,
     "metadata": {},
     "output_type": "execute_result"
    }
   ],
   "source": [
    "val.shape\n",
    "a = np.argmax(val,1)"
   ]
  },
  {
   "cell_type": "code",
   "execution_count": 81,
   "metadata": {},
   "outputs": [
    {
     "data": {
      "application/vnd.jupyter.widget-view+json": {
       "model_id": "2abfe27b6875497399071bd591364262",
       "version_major": 2,
       "version_minor": 0
      },
      "text/html": [
       "<p>Failed to display Jupyter Widget of type <code>HBox</code>.</p>\n",
       "<p>\n",
       "  If you're reading this message in the Jupyter Notebook or JupyterLab Notebook, it may mean\n",
       "  that the widgets JavaScript is still loading. If this message persists, it\n",
       "  likely means that the widgets JavaScript library is either not installed or\n",
       "  not enabled. See the <a href=\"https://ipywidgets.readthedocs.io/en/stable/user_install.html\">Jupyter\n",
       "  Widgets Documentation</a> for setup instructions.\n",
       "</p>\n",
       "<p>\n",
       "  If you're reading this message in another frontend (for example, a static\n",
       "  rendering on GitHub or <a href=\"https://nbviewer.jupyter.org/\">NBViewer</a>),\n",
       "  it may mean that your frontend doesn't currently support widgets.\n",
       "</p>\n"
      ],
      "text/plain": [
       "HBox(children=(IntProgress(value=0, description='Epoch', max=1), HTML(value='')))"
      ]
     },
     "metadata": {},
     "output_type": "display_data"
    },
    {
     "name": "stdout",
     "output_type": "stream",
     "text": [
      "epoch      trn_loss   val_loss   f1                        \n",
      "    0      0.316553   0.218854   0.925463  \n",
      "\n"
     ]
    },
    {
     "data": {
      "text/plain": [
       "[0.21885352, 0.9254629629629629]"
      ]
     },
     "execution_count": 81,
     "metadata": {},
     "output_type": "execute_result"
    }
   ],
   "source": [
    "def f1(preds, targs):\n",
    "    preds = np.argmax(preds, 1)\n",
    "    return sklearn.metrics.f1_score(targs, preds, average='micro') \n",
    "\n",
    "learn.metrics = [f1]\n",
    "learn.fit(lr,1)"
   ]
  },
  {
   "cell_type": "code",
   "execution_count": 83,
   "metadata": {},
   "outputs": [
    {
     "data": {
      "image/png": "[encoded data removed]",
      "text/plain": [
       "<matplotlib.figure.Figure at 0x7fb5102c6fd0>"
      ]
     },
     "metadata": {},
     "output_type": "display_data"
    }
   ],
   "source": [
    "learn.sched.plot_loss()"
   ]
  },
  {
   "cell_type": "code",
   "execution_count": 84,
   "metadata": {},
   "outputs": [
    {
     "data": {
      "application/vnd.jupyter.widget-view+json": {
       "model_id": "766cd353380943fa88362ff9b511944c",
       "version_major": 2,
       "version_minor": 0
      },
      "text/html": [
       "<p>Failed to display Jupyter Widget of type <code>HBox</code>.</p>\n",
       "<p>\n",
       "  If you're reading this message in the Jupyter Notebook or JupyterLab Notebook, it may mean\n",
       "  that the widgets JavaScript is still loading. If this message persists, it\n",
       "  likely means that the widgets JavaScript library is either not installed or\n",
       "  not enabled. See the <a href=\"https://ipywidgets.readthedocs.io/en/stable/user_install.html\">Jupyter\n",
       "  Widgets Documentation</a> for setup instructions.\n",
       "</p>\n",
       "<p>\n",
       "  If you're reading this message in another frontend (for example, a static\n",
       "  rendering on GitHub or <a href=\"https://nbviewer.jupyter.org/\">NBViewer</a>),\n",
       "  it may mean that your frontend doesn't currently support widgets.\n",
       "</p>\n"
      ],
      "text/plain": [
       "HBox(children=(IntProgress(value=0, description='Epoch', max=7), HTML(value='')))"
      ]
     },
     "metadata": {},
     "output_type": "display_data"
    },
    {
     "name": "stdout",
     "output_type": "stream",
     "text": [
      "epoch      trn_loss   val_loss   f1                        \n",
      "    0      0.308158   0.223338   0.924807  \n",
      "    1      0.304464   0.21991    0.930864                  \n",
      "    2      0.277463   0.214537   0.930864                  \n",
      "    3      0.284043   0.214311   0.924614                  \n",
      "    4      0.272641   0.214652   0.932948                  \n",
      "    5      0.287109   0.20986    0.93588                   \n",
      "    6      0.281503   0.213958   0.929823                  \n",
      "\n"
     ]
    },
    {
     "data": {
      "text/plain": [
       "[0.21395761, 0.9298225308641975]"
      ]
     },
     "execution_count": 84,
     "metadata": {},
     "output_type": "execute_result"
    }
   ],
   "source": [
    "learn.fit(lrs,3,cycle_len=1,cycle_mult=2)"
   ]
  },
  {
   "cell_type": "code",
   "execution_count": 86,
   "metadata": {},
   "outputs": [],
   "source": [
    "learn.save('400')"
   ]
  },
  {
   "cell_type": "code",
   "execution_count": 87,
   "metadata": {},
   "outputs": [],
   "source": [
    "def get_data(sz):\n",
    "    tfms = tfms_from_model(arch,sz=sz,aug_tfms=transforms_side_on,max_zoom=1.1)\n",
    "    data = ImageClassifierData.from_csv(PATH,'train',f'{PATH}label.csv',tfms=tfms,val_idxs= val_idxs,test_name = 'test')\n",
    "    return data\n",
    "\n",
    "learn.set_data(get_data(500))"
   ]
  },
  {
   "cell_type": "code",
   "execution_count": 88,
   "metadata": {},
   "outputs": [
    {
     "data": {
      "application/vnd.jupyter.widget-view+json": {
       "model_id": "9a04420541534346a36c5d58c3df26f7",
       "version_major": 2,
       "version_minor": 0
      },
      "text/html": [
       "<p>Failed to display Jupyter Widget of type <code>HBox</code>.</p>\n",
       "<p>\n",
       "  If you're reading this message in the Jupyter Notebook or JupyterLab Notebook, it may mean\n",
       "  that the widgets JavaScript is still loading. If this message persists, it\n",
       "  likely means that the widgets JavaScript library is either not installed or\n",
       "  not enabled. See the <a href=\"https://ipywidgets.readthedocs.io/en/stable/user_install.html\">Jupyter\n",
       "  Widgets Documentation</a> for setup instructions.\n",
       "</p>\n",
       "<p>\n",
       "  If you're reading this message in another frontend (for example, a static\n",
       "  rendering on GitHub or <a href=\"https://nbviewer.jupyter.org/\">NBViewer</a>),\n",
       "  it may mean that your frontend doesn't currently support widgets.\n",
       "</p>\n"
      ],
      "text/plain": [
       "HBox(children=(IntProgress(value=0, description='Epoch', max=3), HTML(value='')))"
      ]
     },
     "metadata": {},
     "output_type": "display_data"
    },
    {
     "name": "stdout",
     "output_type": "stream",
     "text": [
      "epoch      trn_loss   val_loss   f1                        \n",
      "    0      0.367512   0.234721   0.926698  \n",
      "    1      0.342962   0.231551   0.925656                  \n",
      "    2      0.329632   0.235474   0.922531                  \n",
      "\n"
     ]
    },
    {
     "data": {
      "text/plain": [
       "[0.23547392, 0.9225308641975309]"
      ]
     },
     "execution_count": 88,
     "metadata": {},
     "output_type": "execute_result"
    }
   ],
   "source": [
    "learn.freeze()\n",
    "learn.fit(lr,3,cycle_len=1)"
   ]
  },
  {
   "cell_type": "code",
   "execution_count": 13,
   "metadata": {},
   "outputs": [],
   "source": [
    "pred = learn.predict()"
   ]
  },
  {
   "cell_type": "code",
   "execution_count": 16,
   "metadata": {},
   "outputs": [],
   "source": [
    "y_pred = np.argmax(pred,1)"
   ]
  },
  {
   "cell_type": "code",
   "execution_count": 20,
   "metadata": {},
   "outputs": [
    {
     "data": {
      "text/plain": [
       "((950,), (950,))"
      ]
     },
     "execution_count": 20,
     "metadata": {},
     "output_type": "execute_result"
    }
   ],
   "source": [
    "y_pred.shape,data.val_y.shape"
   ]
  },
  {
   "cell_type": "code",
   "execution_count": 22,
   "metadata": {},
   "outputs": [
    {
     "data": {
      "text/plain": [
       "0.9294736842105263"
      ]
     },
     "execution_count": 22,
     "metadata": {},
     "output_type": "execute_result"
    }
   ],
   "source": [
    "f1(pred,data.val_y)"
   ]
  },
  {
   "cell_type": "code",
   "execution_count": 23,
   "metadata": {},
   "outputs": [
    {
     "name": "stdout",
     "output_type": "stream",
     "text": [
      "                                             \r"
     ]
    }
   ],
   "source": [
    "pred_mul,y= learn.TTA()"
   ]
  },
  {
   "cell_type": "code",
   "execution_count": 26,
   "metadata": {},
   "outputs": [],
   "source": [
    "pred = np.mean(pred_mul,0)"
   ]
  },
  {
   "cell_type": "code",
   "execution_count": 27,
   "metadata": {},
   "outputs": [
    {
     "data": {
      "text/plain": [
       "0.9515789473684211"
      ]
     },
     "execution_count": 27,
     "metadata": {},
     "output_type": "execute_result"
    }
   ],
   "source": [
    "f1(pred,y)"
   ]
  },
  {
   "cell_type": "code",
   "execution_count": 28,
   "metadata": {},
   "outputs": [
    {
     "name": "stdout",
     "output_type": "stream",
     "text": [
      "                                             \r"
     ]
    }
   ],
   "source": [
    "pred_mul = learn.TTA(is_test = True)"
   ]
  },
  {
   "cell_type": "code",
   "execution_count": 37,
   "metadata": {},
   "outputs": [
    {
     "name": "stdout",
     "output_type": "stream",
     "text": [
      "                                             \r"
     ]
    }
   ],
   "source": [
    "pred_mul1,y1 = learn.TTA(is_test = True)"
   ]
  },
  {
   "cell_type": "code",
   "execution_count": 40,
   "metadata": {},
   "outputs": [],
   "source": [
    "pred = np.mean(pred_mul1,0)"
   ]
  },
  {
   "cell_type": "code",
   "execution_count": 43,
   "metadata": {},
   "outputs": [],
   "source": [
    "\n",
    "pred_ = np.argmax(pred,1);"
   ]
  },
  {
   "cell_type": "code",
   "execution_count": 49,
   "metadata": {},
   "outputs": [
    {
     "data": {
      "text/plain": [
       "['Black-grass',\n",
       " 'Charlock',\n",
       " 'Cleavers',\n",
       " 'Common Chickweed',\n",
       " 'Common wheat',\n",
       " 'Fat Hen',\n",
       " 'Loose Silky-bent',\n",
       " 'Maize',\n",
       " 'Scentless Mayweed',\n",
       " 'Shepherds Purse',\n",
       " 'Small-flowered Cranesbill',\n",
       " 'Sugar beet']"
      ]
     },
     "execution_count": 49,
     "metadata": {},
     "output_type": "execute_result"
    }
   ],
   "source": [
    "\n",
    "for i in range(len(data.classes)):\n",
    "    data.classes[i] = data.classes[i].replace('_',' ')\n",
    "data.classes"
   ]
  },
  {
   "cell_type": "code",
   "execution_count": 55,
   "metadata": {},
   "outputs": [
    {
     "data": {
      "text/html": [
       "<a href='../data/PlantSeedlings//tmp/sub.csv' target='_blank'>../data/PlantSeedlings//tmp/sub.csv</a><br>"
      ],
      "text/plain": [
       "/home/paperspace/practice/data/PlantSeedlings/tmp/sub.csv"
      ]
     },
     "execution_count": 55,
     "metadata": {},
     "output_type": "execute_result"
    }
   ],
   "source": [
    "sub = pd.DataFrame(columns=['file','species'])\n",
    "\n",
    "for i,v in enumerate(pred_):\n",
    "    c = data.classes[v]\n",
    "    fname = data.test_ds.fnames[i][5:]\n",
    "    sub = sub.append({'file':fname,'species':c},ignore_index=True)\n",
    "\n",
    "sub.to_csv(f'{PATH}/tmp/sub.csv',index = False)\n",
    "\n",
    "FileLink(f'{PATH}/tmp/sub.csv')"
   ]
  },
  {
   "cell_type": "code",
   "execution_count": null,
   "metadata": {},
   "outputs": [],
   "source": []
  }
 ],
 "metadata": {
  "kernelspec": {
   "display_name": "Python 3",
   "language": "python",
   "name": "python3"
  },
  "language_info": {
   "codemirror_mode": {
    "name": "ipython",
    "version": 3
   },
   "file_extension": ".py",
   "mimetype": "text/x-python",
   "name": "python",
   "nbconvert_exporter": "python",
   "pygments_lexer": "ipython3",
   "version": "3.6.4"
  }
 },
 "nbformat": 4,
 "nbformat_minor": 2
}
